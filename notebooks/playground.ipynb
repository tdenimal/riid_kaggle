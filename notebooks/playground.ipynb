{
 "metadata": {
  "language_info": {
   "codemirror_mode": {
    "name": "ipython",
    "version": 3
   },
   "file_extension": ".py",
   "mimetype": "text/x-python",
   "name": "python",
   "nbconvert_exporter": "python",
   "pygments_lexer": "ipython3",
   "version": "3.7.9-final"
  },
  "orig_nbformat": 2,
  "kernelspec": {
   "name": "python3",
   "display_name": "riid_kaggle"
  }
 },
 "nbformat": 4,
 "nbformat_minor": 2,
 "cells": [
  {
   "cell_type": "code",
   "execution_count": 31,
   "metadata": {
    "tags": []
   },
   "outputs": [],
   "source": [
    "import warnings\n",
    "warnings.filterwarnings(\"ignore\")\n",
    "\n",
    "import numpy as np"
   ]
  },
  {
   "cell_type": "code",
   "execution_count": 34,
   "metadata": {
    "tags": []
   },
   "outputs": [
    {
     "output_type": "stream",
     "name": "stdout",
     "text": "2020-10-15 21:59:43,620 - kedro.io.data_catalog - INFO - Loading data from `questions` (CSVDataSet)...\n2020-10-15 21:59:43,640 - kedro.io.data_catalog - INFO - Loading data from `lectures` (CSVDataSet)...\n2020-10-15 21:59:43,647 - kedro.io.data_catalog - INFO - Loading data from `train` (CSVDataSet)...\n"
    }
   ],
   "source": [
    "#Load raw datasets\n",
    "questions = context.catalog.load(\"questions\",) \n",
    "lectures = context.catalog.load(\"lectures\",)\n",
    "train =  context.catalog.load(\"train\",)"
   ]
  },
  {
   "cell_type": "code",
   "execution_count": null,
   "metadata": {},
   "outputs": [],
   "source": []
  }
 ]
}